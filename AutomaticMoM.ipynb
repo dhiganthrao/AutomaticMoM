{
  "nbformat": 4,
  "nbformat_minor": 0,
  "metadata": {
    "colab": {
      "name": "ML_mini_project.ipynb",
      "provenance": [],
      "collapsed_sections": []
    },
    "kernelspec": {
      "name": "python3",
      "display_name": "Python 3"
    },
    "language_info": {
      "name": "python"
    },
    "accelerator": "GPU"
  },
  "cells": [
    {
      "cell_type": "markdown",
      "metadata": {
        "id": "1Re8lw945JH6"
      },
      "source": [
        "# Automatic Minutes of the Meeting"
      ]
    },
    {
      "cell_type": "markdown",
      "metadata": {
        "id": "Lpc0F3U969me"
      },
      "source": [
        "Team 1: (Speech to Text)\n",
        "- Aishwarya Ponni\n",
        "- Indu S (55)\n",
        "- Indu S (56)\n",
        "- Kaavya\n",
        "\n",
        "Team 2: (Text Summarization)\n",
        "- Abhinav M\n",
        "- Andrea Solomon\n",
        "- Charu Jain\n",
        "- Dhiganth Rao\n",
        "- Janardhan M"
      ]
    },
    {
      "cell_type": "markdown",
      "metadata": {
        "id": "7Ar5UUTt5Y0m"
      },
      "source": [
        "## Objective: \n",
        "To generate automatic summary of a recorded meeting using Speech to text and text summarization models. "
      ]
    },
    {
      "cell_type": "code",
      "metadata": {
        "colab": {
          "base_uri": "https://localhost:8080/",
          "height": 497
        },
        "id": "Bpmtx9CvM5e_",
        "cellView": "form",
        "outputId": "1cbacb71-963b-46d8-ebac-3be08b511cbd"
      },
      "source": [
        "#@title\n",
        "%%html\n",
        "<center>\n",
        "  <h1>Flowchart</h1>\n",
        "    <div class=\"mxgraph\" style=\"max-width:100%;border:1px solid transparent;\" data-mxgraph=\"{&quot;nav&quot;:true,&quot;resize&quot;:true,&quot;toolbar&quot;:&quot;zoom layers lightbox&quot;,&quot;edit&quot;:&quot;_blank&quot;,&quot;xml&quot;:&quot;&lt;mxfile host=\\&quot;app.diagrams.net\\&quot; modified=\\&quot;2021-04-27T06:00:00.177Z\\&quot; agent=\\&quot;5.0 (Windows NT 10.0; Win64; x64) AppleWebKit/537.36 (KHTML, like Gecko) Chrome/90.0.4430.85 Safari/537.36\\&quot; etag=\\&quot;ivguTpmVgEpuODADrlIz\\&quot; version=\\&quot;14.6.6\\&quot; type=\\&quot;google\\&quot;&gt;&lt;diagram id=\\&quot;4Ia9qc8-Jvyl2sFP45H4\\&quot; name=\\&quot;Page-1\\&quot;&gt;5Vpdc9o4FP01PLbjT2wegZB2J9udTMgM7dOOsIWtRLa8sgi4v35lScafMYRAoSkPiXV1bVn33HPutWFgTqPtFwqS8BvxIR4Ymr8dmDcDw3Bcg//NDZk0WI4rDQFFvjTppWGOfkJl1JR1jXyY1hwZIZihpG70SBxDj9VsgFKyqbutCK6vmoBAraiVhrkHMGy5LZDPQml1Dae0f4UoCIuV9eFIziyB9xxQso7VejGJoZyJQHEZtWQaAp9sKiZzNjCnlBAmj6LtFOI8qkXE5Hm3r8zubpnCmB1ywmb8eJfOpt+f8PTp6+1EWy424Sd1lReA1yoU6mZZVsQG+jxUakgoC0lAYoBnpXUi9g/zZTQ+Kn3+JiThRp0bnyBjmcIdrBnhppBFWM2mjJJnOCWYULGmeSs+fKa9SXXHKVlTD/bsTG2EARpA1uNnSb98l5UFVAi/QBJBRjPuQCEGDL3UEwaovAt2fiUA/EBh8AY8jA48hpjlMUpAzI+D/PivOFkzSYcXSFN+XyQWt+gR6qM4KM7ht1A9rQUtT8kkP+TxBRhDTAIKIu6YQIr4fiBtzt2XE5NNiBicJ0CgsOGyUMd0hbawYLrehyTfAYPb3tirWUsxKasPNyVjdVPZwgpbh9qZwDI/LHmsA8njXBV5rBYe9xkPZ04NH3k5SYC4G04bBlAsiCJIE8Qo5RDwwCQQemF+b7Ev9h+kLUhLwPT9LDhF1tu1rNfdjrQ3fmXa269q1IoHVsS3yMXhf2silcdciU/VpLRs8o2fsgAsFUDNCwR4mhvaI9yyipjJ678iZiz37WGGKM25LmHcMAGMgpgPPQ6SkLYcHMS7g7GaiJDvC7J2oV0n8AkA1/W6zu1ErYK4M2wDbpwL8OGV6xwPNc2+51f+bFluYfghDJpejG+2am05yqqjSl3rR3GvcjoHKmeB8emkU5w6phRkFYeEoJillSvf54Yy1wy7nmum22gi9/jvcbeMd7nrzZa26e+M+vz5gYzHK2e7jdVGDQJJENVZDQ7tEDqeVk6LVp9ZLncalygo6M7ZrsRvSQvdYxTEqUdRwn77dq5e2Ez70oXNPWlhe4BA9uLaipKo2YOI8gaSBIpGg2dYPq7Cf2zRu/JiZowuXMxGV17Mji89RaT31x7jKmpPU39NzX5TdWj419X+VCJdBLWSL7Mt12BPxKXoULX5OooARcWj+HseGaoNKk8MH0B35XWlzNBz4XJ1Ii02GzTVO8RY7xBj+1w81bteTe1XY9+C+spuq7HC6QHEz/zfGAeE8vIa/XEPF3bz4aKj6lodOJ9NjwsxquCcCjJlshu6YI9zESaaw4bK/cq2yKaPI6b9+w+8WT0kP51x4pi48x3xO4iY968rQiNI281tJL9Y+MM4aYyGF+NkN+LtN2ntJin2x/k3L2VU39fe7G1GKsGwewrR23qWVpNh2t2PoLtLyDas9VB48LPsGZ4uye0kyJY+mmd4creYze4+LZ47Xoa2Ibz6PrdzZ2ojv0ub28yoS7e5fTGtZMt4mX68NtfULtjmdgb+kO+QSqX1MEhT5NUjWX39adu115/HvPs8grJVKval10fTeLPxjaShnUrj+bD8ZYB0L394Yc7+Bw==&lt;/diagram&gt;&lt;/mxfile&gt;&quot;}\"></div>\n",
        "    <script type=\"text/javascript\" src=\"https://viewer.diagrams.net/js/viewer-static.min.js\"></script>\n",
        " <!-- <div class=\"mxgraph\" style=\"max-width:100%;border:1px solid transparent;\" data-mxgraph=\"{&quot;highlight&quot;:&quot;#0000ff&quot;,&quot;nav&quot;:true,&quot;resize&quot;:true,&quot;toolbar&quot;:&quot;zoom layers lightbox&quot;,&quot;edit&quot;:&quot;_blank&quot;,&quot;xml&quot;:&quot;&lt;mxfile host=\\&quot;app.diagrams.net\\&quot; modified=\\&quot;2021-04-14T18:40:06.898Z\\&quot; agent=\\&quot;5.0 (Macintosh; Intel Mac OS X 10_15_6) AppleWebKit/537.36 (KHTML, like Gecko) Chrome/89.0.4389.114 Safari/537.36\\&quot; etag=\\&quot;BHtXrKTayJECvsAGebPd\\&quot; version=\\&quot;14.6.0\\&quot;&gt;&lt;diagram id=\\&quot;4Ia9qc8-Jvyl2sFP45H4\\&quot; name=\\&quot;Page-1\\&quot;&gt;5VpZc+I4EP41PM6UD8zxCITMbGVnKxVSldmnLWELW4kseWUR8Pz61WV8coRAIDt5SKxWy5L66/66JafjTuL1NwaS6AcNIO44VrDuuDcdxxk6nvgtBZkW9LqOFoQMBVpkF4IZ+gWN0DLSJQpgWlHklGKOkqrQp4RAn1dkgDG6qqotKK7OmoDQzGgVgpkPMGyoPaGAR1o6cPqF/DtEYZTPbPeGumcO/JeQ0SUx8xFKoO6JQf4aM2UagYCuSiJ32nEnjFKun+L1BGJp1dxietztlt7Nkhkk/JABq9HjXTqd/HzGk+fvt2Nr/rSKvpi3vAK8NKYwi+VZbhsYCFOZJmU8oiElAE8L6VjtH8ppLNEqdP6kNBFCWwifIeeZwR0sORWiiMfY9Kac0Rc4oZgyNad7q35ET3OTZsUpXTIf7tiZ2QgHLIR8h15X68ldliYwJvwGaQw5y4QCgxhw9Fp1GGD8LtzoFQCIB4PBG/BwWvDoYS5tlAAinkP5/AdJllyHwytkqVgXJWqJPmUBImE+RiyhPKwBrXDJRD4K+wKMIaYhA7FQTCBDYj+Q1fvui47xKkIczhKgUFgJWqhiukBrmEe6vQtJsQMO1zttb3q7JpKyanNVRKztGllUitaedSaw3P9t8HQPDJ7+VQVPt4HHfSbMKUMjQL4MEqBWI8KGA0RUoKigCQlKBQTCMAmEfiTXRgK1/zBtQFoAZu+PglN4vVfxenvQ4vbOR7q9t5WjFsKwyr65L/b+XVLNPO5C/ZRFhsvGP8SQJ8BTBdQsR0C4uWM9wjUvkZl+/xYy41J3R2So1Cx5CeOaCGAUEtH0BUiK2iQ4SFQHI9MRoyBQwdqGdjWATwC4bVd5bkNqJcT7vSbgzrkA7105zwlTs+ynfPPXbneQC/5WAsvO2zdrM7duZeVWKa/tRnEvc/YPZM4c49NRpxo6YgxkJYWEIsLT0pvvpaDwNcer+po7qBWRe/T3qHedd6nb9ZK2rt8f7tIXD9oeW0YParMNawGkQTSjajG0Qej4sOo3wuorl3RnCYqCKtxFtBvym7Oc9zgDJPUZSvinL+eqic31Lp3YBidNbA8Q6FrcWjAa12sQld5AkkBVaAgPk+0y/McmvStPZs7wwslseOXJ7PjUk1t6f+5xriL31PnXtbw3ZYeafpXtT0XSuVFL/jJdCw72lV3yCtWaLeMYMJQfxS99ZHBrQWe3UKvdQq3euaLObrtoOp5bjdUfAHkRf0Y4pEwky/i3Oyp49aNCSw7ttuB8NnbNqaWEc6pCI9O1zeeuWNxejYE+smTx2OOQW//8BW8WD8mv/ijpu7j1/vYdYSVrywVlMWTNwjPWl/518W8Xc86wd7GYa/eB5r1Xs6QhwUh+Jyms+r5iZG/pUDKGtyPRvK3CaJQErtd+YNy8QhdNjSPcwSfPM5wF6e04zOYBmmV4fPc0nd59eXppubpsQnj5qrSG+t4ytXWrZmcHVqkfXZTWPerSRekuE5a8ZTRPP6AobZBkiwdsT57WBYvSVjMe8v2m4E0fgzRFftUu5atHz6tcPR5z73iKACwH1nbv+fSM7da+BjrWqRhbNIuv8lq9+KcHd/of&lt;/diagram&gt;&lt;/mxfile&gt;&quot;}\"></div> -->\n",
        "   <!-- <script type=\"text/javascript\" src=\"https://viewer.diagrams.net/js/viewer-static.min.js\"></script> -->\n",
        "</center>\n",
        "\n"
      ],
      "execution_count": null,
      "outputs": [
        {
          "output_type": "display_data",
          "data": {
            "text/html": [
              "<center>\n",
              "  <h1>Flowchart</h1>\n",
              "    <div class=\"mxgraph\" style=\"max-width:100%;border:1px solid transparent;\" data-mxgraph=\"{&quot;nav&quot;:true,&quot;resize&quot;:true,&quot;toolbar&quot;:&quot;zoom layers lightbox&quot;,&quot;edit&quot;:&quot;_blank&quot;,&quot;xml&quot;:&quot;&lt;mxfile host=\\&quot;app.diagrams.net\\&quot; modified=\\&quot;2021-04-27T06:00:00.177Z\\&quot; agent=\\&quot;5.0 (Windows NT 10.0; Win64; x64) AppleWebKit/537.36 (KHTML, like Gecko) Chrome/90.0.4430.85 Safari/537.36\\&quot; etag=\\&quot;ivguTpmVgEpuODADrlIz\\&quot; version=\\&quot;14.6.6\\&quot; type=\\&quot;google\\&quot;&gt;&lt;diagram id=\\&quot;4Ia9qc8-Jvyl2sFP45H4\\&quot; name=\\&quot;Page-1\\&quot;&gt;5Vpdc9o4FP01PLbjT2wegZB2J9udTMgM7dOOsIWtRLa8sgi4v35lScafMYRAoSkPiXV1bVn33HPutWFgTqPtFwqS8BvxIR4Ymr8dmDcDw3Bcg//NDZk0WI4rDQFFvjTppWGOfkJl1JR1jXyY1hwZIZihpG70SBxDj9VsgFKyqbutCK6vmoBAraiVhrkHMGy5LZDPQml1Dae0f4UoCIuV9eFIziyB9xxQso7VejGJoZyJQHEZtWQaAp9sKiZzNjCnlBAmj6LtFOI8qkXE5Hm3r8zubpnCmB1ywmb8eJfOpt+f8PTp6+1EWy424Sd1lReA1yoU6mZZVsQG+jxUakgoC0lAYoBnpXUi9g/zZTQ+Kn3+JiThRp0bnyBjmcIdrBnhppBFWM2mjJJnOCWYULGmeSs+fKa9SXXHKVlTD/bsTG2EARpA1uNnSb98l5UFVAi/QBJBRjPuQCEGDL3UEwaovAt2fiUA/EBh8AY8jA48hpjlMUpAzI+D/PivOFkzSYcXSFN+XyQWt+gR6qM4KM7ht1A9rQUtT8kkP+TxBRhDTAIKIu6YQIr4fiBtzt2XE5NNiBicJ0CgsOGyUMd0hbawYLrehyTfAYPb3tirWUsxKasPNyVjdVPZwgpbh9qZwDI/LHmsA8njXBV5rBYe9xkPZ04NH3k5SYC4G04bBlAsiCJIE8Qo5RDwwCQQemF+b7Ev9h+kLUhLwPT9LDhF1tu1rNfdjrQ3fmXa269q1IoHVsS3yMXhf2silcdciU/VpLRs8o2fsgAsFUDNCwR4mhvaI9yyipjJ678iZiz37WGGKM25LmHcMAGMgpgPPQ6SkLYcHMS7g7GaiJDvC7J2oV0n8AkA1/W6zu1ErYK4M2wDbpwL8OGV6xwPNc2+51f+bFluYfghDJpejG+2am05yqqjSl3rR3GvcjoHKmeB8emkU5w6phRkFYeEoJillSvf54Yy1wy7nmum22gi9/jvcbeMd7nrzZa26e+M+vz5gYzHK2e7jdVGDQJJENVZDQ7tEDqeVk6LVp9ZLncalygo6M7ZrsRvSQvdYxTEqUdRwn77dq5e2Ez70oXNPWlhe4BA9uLaipKo2YOI8gaSBIpGg2dYPq7Cf2zRu/JiZowuXMxGV17Mji89RaT31x7jKmpPU39NzX5TdWj419X+VCJdBLWSL7Mt12BPxKXoULX5OooARcWj+HseGaoNKk8MH0B35XWlzNBz4XJ1Ii02GzTVO8RY7xBj+1w81bteTe1XY9+C+spuq7HC6QHEz/zfGAeE8vIa/XEPF3bz4aKj6lodOJ9NjwsxquCcCjJlshu6YI9zESaaw4bK/cq2yKaPI6b9+w+8WT0kP51x4pi48x3xO4iY968rQiNI281tJL9Y+MM4aYyGF+NkN+LtN2ntJin2x/k3L2VU39fe7G1GKsGwewrR23qWVpNh2t2PoLtLyDas9VB48LPsGZ4uye0kyJY+mmd4creYze4+LZ47Xoa2Ibz6PrdzZ2ojv0ub28yoS7e5fTGtZMt4mX68NtfULtjmdgb+kO+QSqX1MEhT5NUjWX39adu115/HvPs8grJVKval10fTeLPxjaShnUrj+bD8ZYB0L394Yc7+Bw==&lt;/diagram&gt;&lt;/mxfile&gt;&quot;}\"></div>\n",
              "    <script type=\"text/javascript\" src=\"https://viewer.diagrams.net/js/viewer-static.min.js\"></script>\n",
              " <!-- <div class=\"mxgraph\" style=\"max-width:100%;border:1px solid transparent;\" data-mxgraph=\"{&quot;highlight&quot;:&quot;#0000ff&quot;,&quot;nav&quot;:true,&quot;resize&quot;:true,&quot;toolbar&quot;:&quot;zoom layers lightbox&quot;,&quot;edit&quot;:&quot;_blank&quot;,&quot;xml&quot;:&quot;&lt;mxfile host=\\&quot;app.diagrams.net\\&quot; modified=\\&quot;2021-04-14T18:40:06.898Z\\&quot; agent=\\&quot;5.0 (Macintosh; Intel Mac OS X 10_15_6) AppleWebKit/537.36 (KHTML, like Gecko) Chrome/89.0.4389.114 Safari/537.36\\&quot; etag=\\&quot;BHtXrKTayJECvsAGebPd\\&quot; version=\\&quot;14.6.0\\&quot;&gt;&lt;diagram id=\\&quot;4Ia9qc8-Jvyl2sFP45H4\\&quot; name=\\&quot;Page-1\\&quot;&gt;5VpZc+I4EP41PM6UD8zxCITMbGVnKxVSldmnLWELW4kseWUR8Pz61WV8coRAIDt5SKxWy5L66/66JafjTuL1NwaS6AcNIO44VrDuuDcdxxk6nvgtBZkW9LqOFoQMBVpkF4IZ+gWN0DLSJQpgWlHklGKOkqrQp4RAn1dkgDG6qqotKK7OmoDQzGgVgpkPMGyoPaGAR1o6cPqF/DtEYZTPbPeGumcO/JeQ0SUx8xFKoO6JQf4aM2UagYCuSiJ32nEnjFKun+L1BGJp1dxietztlt7Nkhkk/JABq9HjXTqd/HzGk+fvt2Nr/rSKvpi3vAK8NKYwi+VZbhsYCFOZJmU8oiElAE8L6VjtH8ppLNEqdP6kNBFCWwifIeeZwR0sORWiiMfY9Kac0Rc4oZgyNad7q35ET3OTZsUpXTIf7tiZ2QgHLIR8h15X68ldliYwJvwGaQw5y4QCgxhw9Fp1GGD8LtzoFQCIB4PBG/BwWvDoYS5tlAAinkP5/AdJllyHwytkqVgXJWqJPmUBImE+RiyhPKwBrXDJRD4K+wKMIaYhA7FQTCBDYj+Q1fvui47xKkIczhKgUFgJWqhiukBrmEe6vQtJsQMO1zttb3q7JpKyanNVRKztGllUitaedSaw3P9t8HQPDJ7+VQVPt4HHfSbMKUMjQL4MEqBWI8KGA0RUoKigCQlKBQTCMAmEfiTXRgK1/zBtQFoAZu+PglN4vVfxenvQ4vbOR7q9t5WjFsKwyr65L/b+XVLNPO5C/ZRFhsvGP8SQJ8BTBdQsR0C4uWM9wjUvkZl+/xYy41J3R2So1Cx5CeOaCGAUEtH0BUiK2iQ4SFQHI9MRoyBQwdqGdjWATwC4bVd5bkNqJcT7vSbgzrkA7105zwlTs+ynfPPXbneQC/5WAsvO2zdrM7duZeVWKa/tRnEvc/YPZM4c49NRpxo6YgxkJYWEIsLT0pvvpaDwNcer+po7qBWRe/T3qHedd6nb9ZK2rt8f7tIXD9oeW0YParMNawGkQTSjajG0Qej4sOo3wuorl3RnCYqCKtxFtBvym7Oc9zgDJPUZSvinL+eqic31Lp3YBidNbA8Q6FrcWjAa12sQld5AkkBVaAgPk+0y/McmvStPZs7wwslseOXJ7PjUk1t6f+5xriL31PnXtbw3ZYeafpXtT0XSuVFL/jJdCw72lV3yCtWaLeMYMJQfxS99ZHBrQWe3UKvdQq3euaLObrtoOp5bjdUfAHkRf0Y4pEwky/i3Oyp49aNCSw7ttuB8NnbNqaWEc6pCI9O1zeeuWNxejYE+smTx2OOQW//8BW8WD8mv/ijpu7j1/vYdYSVrywVlMWTNwjPWl/518W8Xc86wd7GYa/eB5r1Xs6QhwUh+Jyms+r5iZG/pUDKGtyPRvK3CaJQErtd+YNy8QhdNjSPcwSfPM5wF6e04zOYBmmV4fPc0nd59eXppubpsQnj5qrSG+t4ytXWrZmcHVqkfXZTWPerSRekuE5a8ZTRPP6AobZBkiwdsT57WBYvSVjMe8v2m4E0fgzRFftUu5atHz6tcPR5z73iKACwH1nbv+fSM7da+BjrWqRhbNIuv8lq9+KcHd/of&lt;/diagram&gt;&lt;/mxfile&gt;&quot;}\"></div> -->\n",
              "   <!-- <script type=\"text/javascript\" src=\"https://viewer.diagrams.net/js/viewer-static.min.js\"></script> -->\n",
              "</center>\n"
            ],
            "text/plain": [
              "<IPython.core.display.HTML object>"
            ]
          },
          "metadata": {
            "tags": []
          }
        }
      ]
    },
    {
      "cell_type": "markdown",
      "metadata": {
        "id": "zrVUXV8iVqoY"
      },
      "source": [
        "# Transcription"
      ]
    },
    {
      "cell_type": "markdown",
      "metadata": {
        "id": "CwuSa1BsxfPB"
      },
      "source": [
        "Watson STT Service\n",
        "Install and import dependencies"
      ]
    },
    {
      "cell_type": "code",
      "metadata": {
        "id": "l3kc0FvAxN5X"
      },
      "source": [
        "!pip install ibm_watson --quiet"
      ],
      "execution_count": null,
      "outputs": []
    },
    {
      "cell_type": "code",
      "metadata": {
        "id": "HlXACK2d6-Ua"
      },
      "source": [
        "from ibm_watson import SpeechToTextV1\n",
        "from ibm_cloud_sdk_core.authenticators import IAMAuthenticator"
      ],
      "execution_count": null,
      "outputs": []
    },
    {
      "cell_type": "markdown",
      "metadata": {
        "id": "FfZ41_Pe52KQ"
      },
      "source": [
        "Setup STT service"
      ]
    },
    {
      "cell_type": "code",
      "metadata": {
        "id": "0DMpwbIP5vER"
      },
      "source": [
        "apikey= \"1Fjs8Ooy5wEPVRlY0QGqb9EjulAJoGGT1Xm_ezFE7JYB\"\n",
        "url= \"https://api.eu-gb.speech-to-text.watson.cloud.ibm.com/instances/0af2eb71-c0b7-4fa0-97a9-2ccb0e066443\""
      ],
      "execution_count": null,
      "outputs": []
    },
    {
      "cell_type": "code",
      "metadata": {
        "id": "QuFdwcC16Nxa"
      },
      "source": [
        "#setup service\n",
        "authenticator=IAMAuthenticator(apikey)\n",
        "stt=SpeechToTextV1(authenticator=authenticator)\n",
        "stt.set_service_url(url)"
      ],
      "execution_count": null,
      "outputs": []
    },
    {
      "cell_type": "markdown",
      "metadata": {
        "id": "5dpQo5dB9323"
      },
      "source": [
        "Open Audio source and convert"
      ]
    },
    {
      "cell_type": "code",
      "metadata": {
        "id": "QxJ4MLXSExgY",
        "colab": {
          "base_uri": "https://localhost:8080/"
        },
        "outputId": "924cbb3a-1079-4e66-a30e-f191877c9328"
      },
      "source": [
        "#package to download youtube video and extract the audio from it\n",
        "!pip install youtube-dl --quiet"
      ],
      "execution_count": null,
      "outputs": [
        {
          "output_type": "stream",
          "text": [
            "\u001b[?25l\r\u001b[K     |▏                               | 10kB 24.2MB/s eta 0:00:01\r\u001b[K     |▍                               | 20kB 15.5MB/s eta 0:00:01\r\u001b[K     |▌                               | 30kB 13.1MB/s eta 0:00:01\r\u001b[K     |▊                               | 40kB 12.5MB/s eta 0:00:01\r\u001b[K     |▉                               | 51kB 6.7MB/s eta 0:00:01\r\u001b[K     |█                               | 61kB 7.8MB/s eta 0:00:01\r\u001b[K     |█▏                              | 71kB 8.3MB/s eta 0:00:01\r\u001b[K     |█▍                              | 81kB 8.6MB/s eta 0:00:01\r\u001b[K     |█▌                              | 92kB 8.4MB/s eta 0:00:01\r\u001b[K     |█▊                              | 102kB 7.5MB/s eta 0:00:01\r\u001b[K     |██                              | 112kB 7.5MB/s eta 0:00:01\r\u001b[K     |██                              | 122kB 7.5MB/s eta 0:00:01\r\u001b[K     |██▎                             | 133kB 7.5MB/s eta 0:00:01\r\u001b[K     |██▍                             | 143kB 7.5MB/s eta 0:00:01\r\u001b[K     |██▋                             | 153kB 7.5MB/s eta 0:00:01\r\u001b[K     |██▊                             | 163kB 7.5MB/s eta 0:00:01\r\u001b[K     |███                             | 174kB 7.5MB/s eta 0:00:01\r\u001b[K     |███                             | 184kB 7.5MB/s eta 0:00:01\r\u001b[K     |███▎                            | 194kB 7.5MB/s eta 0:00:01\r\u001b[K     |███▍                            | 204kB 7.5MB/s eta 0:00:01\r\u001b[K     |███▋                            | 215kB 7.5MB/s eta 0:00:01\r\u001b[K     |███▉                            | 225kB 7.5MB/s eta 0:00:01\r\u001b[K     |████                            | 235kB 7.5MB/s eta 0:00:01\r\u001b[K     |████▏                           | 245kB 7.5MB/s eta 0:00:01\r\u001b[K     |████▎                           | 256kB 7.5MB/s eta 0:00:01\r\u001b[K     |████▌                           | 266kB 7.5MB/s eta 0:00:01\r\u001b[K     |████▋                           | 276kB 7.5MB/s eta 0:00:01\r\u001b[K     |████▉                           | 286kB 7.5MB/s eta 0:00:01\r\u001b[K     |█████                           | 296kB 7.5MB/s eta 0:00:01\r\u001b[K     |█████▏                          | 307kB 7.5MB/s eta 0:00:01\r\u001b[K     |█████▍                          | 317kB 7.5MB/s eta 0:00:01\r\u001b[K     |█████▌                          | 327kB 7.5MB/s eta 0:00:01\r\u001b[K     |█████▊                          | 337kB 7.5MB/s eta 0:00:01\r\u001b[K     |█████▉                          | 348kB 7.5MB/s eta 0:00:01\r\u001b[K     |██████                          | 358kB 7.5MB/s eta 0:00:01\r\u001b[K     |██████▏                         | 368kB 7.5MB/s eta 0:00:01\r\u001b[K     |██████▍                         | 378kB 7.5MB/s eta 0:00:01\r\u001b[K     |██████▌                         | 389kB 7.5MB/s eta 0:00:01\r\u001b[K     |██████▊                         | 399kB 7.5MB/s eta 0:00:01\r\u001b[K     |██████▉                         | 409kB 7.5MB/s eta 0:00:01\r\u001b[K     |███████                         | 419kB 7.5MB/s eta 0:00:01\r\u001b[K     |███████▎                        | 430kB 7.5MB/s eta 0:00:01\r\u001b[K     |███████▍                        | 440kB 7.5MB/s eta 0:00:01\r\u001b[K     |███████▋                        | 450kB 7.5MB/s eta 0:00:01\r\u001b[K     |███████▊                        | 460kB 7.5MB/s eta 0:00:01\r\u001b[K     |████████                        | 471kB 7.5MB/s eta 0:00:01\r\u001b[K     |████████                        | 481kB 7.5MB/s eta 0:00:01\r\u001b[K     |████████▎                       | 491kB 7.5MB/s eta 0:00:01\r\u001b[K     |████████▍                       | 501kB 7.5MB/s eta 0:00:01\r\u001b[K     |████████▋                       | 512kB 7.5MB/s eta 0:00:01\r\u001b[K     |████████▉                       | 522kB 7.5MB/s eta 0:00:01\r\u001b[K     |█████████                       | 532kB 7.5MB/s eta 0:00:01\r\u001b[K     |█████████▏                      | 542kB 7.5MB/s eta 0:00:01\r\u001b[K     |█████████▎                      | 552kB 7.5MB/s eta 0:00:01\r\u001b[K     |█████████▌                      | 563kB 7.5MB/s eta 0:00:01\r\u001b[K     |█████████▋                      | 573kB 7.5MB/s eta 0:00:01\r\u001b[K     |█████████▉                      | 583kB 7.5MB/s eta 0:00:01\r\u001b[K     |██████████                      | 593kB 7.5MB/s eta 0:00:01\r\u001b[K     |██████████▏                     | 604kB 7.5MB/s eta 0:00:01\r\u001b[K     |██████████▎                     | 614kB 7.5MB/s eta 0:00:01\r\u001b[K     |██████████▌                     | 624kB 7.5MB/s eta 0:00:01\r\u001b[K     |██████████▊                     | 634kB 7.5MB/s eta 0:00:01\r\u001b[K     |██████████▉                     | 645kB 7.5MB/s eta 0:00:01\r\u001b[K     |███████████                     | 655kB 7.5MB/s eta 0:00:01\r\u001b[K     |███████████▏                    | 665kB 7.5MB/s eta 0:00:01\r\u001b[K     |███████████▍                    | 675kB 7.5MB/s eta 0:00:01\r\u001b[K     |███████████▌                    | 686kB 7.5MB/s eta 0:00:01\r\u001b[K     |███████████▊                    | 696kB 7.5MB/s eta 0:00:01\r\u001b[K     |███████████▉                    | 706kB 7.5MB/s eta 0:00:01\r\u001b[K     |████████████                    | 716kB 7.5MB/s eta 0:00:01\r\u001b[K     |████████████▎                   | 727kB 7.5MB/s eta 0:00:01\r\u001b[K     |████████████▍                   | 737kB 7.5MB/s eta 0:00:01\r\u001b[K     |████████████▋                   | 747kB 7.5MB/s eta 0:00:01\r\u001b[K     |████████████▊                   | 757kB 7.5MB/s eta 0:00:01\r\u001b[K     |█████████████                   | 768kB 7.5MB/s eta 0:00:01\r\u001b[K     |█████████████                   | 778kB 7.5MB/s eta 0:00:01\r\u001b[K     |█████████████▎                  | 788kB 7.5MB/s eta 0:00:01\r\u001b[K     |█████████████▍                  | 798kB 7.5MB/s eta 0:00:01\r\u001b[K     |█████████████▋                  | 808kB 7.5MB/s eta 0:00:01\r\u001b[K     |█████████████▊                  | 819kB 7.5MB/s eta 0:00:01\r\u001b[K     |██████████████                  | 829kB 7.5MB/s eta 0:00:01\r\u001b[K     |██████████████▏                 | 839kB 7.5MB/s eta 0:00:01\r\u001b[K     |██████████████▎                 | 849kB 7.5MB/s eta 0:00:01\r\u001b[K     |██████████████▌                 | 860kB 7.5MB/s eta 0:00:01\r\u001b[K     |██████████████▋                 | 870kB 7.5MB/s eta 0:00:01\r\u001b[K     |██████████████▉                 | 880kB 7.5MB/s eta 0:00:01\r\u001b[K     |███████████████                 | 890kB 7.5MB/s eta 0:00:01\r\u001b[K     |███████████████▏                | 901kB 7.5MB/s eta 0:00:01\r\u001b[K     |███████████████▎                | 911kB 7.5MB/s eta 0:00:01\r\u001b[K     |███████████████▌                | 921kB 7.5MB/s eta 0:00:01\r\u001b[K     |███████████████▋                | 931kB 7.5MB/s eta 0:00:01\r\u001b[K     |███████████████▉                | 942kB 7.5MB/s eta 0:00:01\r\u001b[K     |████████████████                | 952kB 7.5MB/s eta 0:00:01\r\u001b[K     |████████████████▏               | 962kB 7.5MB/s eta 0:00:01\r\u001b[K     |████████████████▍               | 972kB 7.5MB/s eta 0:00:01\r\u001b[K     |████████████████▌               | 983kB 7.5MB/s eta 0:00:01\r\u001b[K     |████████████████▊               | 993kB 7.5MB/s eta 0:00:01\r\u001b[K     |████████████████▉               | 1.0MB 7.5MB/s eta 0:00:01\r\u001b[K     |█████████████████               | 1.0MB 7.5MB/s eta 0:00:01\r\u001b[K     |█████████████████▏              | 1.0MB 7.5MB/s eta 0:00:01\r\u001b[K     |█████████████████▍              | 1.0MB 7.5MB/s eta 0:00:01\r\u001b[K     |█████████████████▋              | 1.0MB 7.5MB/s eta 0:00:01\r\u001b[K     |█████████████████▊              | 1.1MB 7.5MB/s eta 0:00:01\r\u001b[K     |██████████████████              | 1.1MB 7.5MB/s eta 0:00:01\r\u001b[K     |██████████████████              | 1.1MB 7.5MB/s eta 0:00:01\r\u001b[K     |██████████████████▎             | 1.1MB 7.5MB/s eta 0:00:01\r\u001b[K     |██████████████████▍             | 1.1MB 7.5MB/s eta 0:00:01\r\u001b[K     |██████████████████▋             | 1.1MB 7.5MB/s eta 0:00:01\r\u001b[K     |██████████████████▊             | 1.1MB 7.5MB/s eta 0:00:01\r\u001b[K     |███████████████████             | 1.1MB 7.5MB/s eta 0:00:01\r\u001b[K     |███████████████████             | 1.1MB 7.5MB/s eta 0:00:01\r\u001b[K     |███████████████████▎            | 1.1MB 7.5MB/s eta 0:00:01\r\u001b[K     |███████████████████▌            | 1.2MB 7.5MB/s eta 0:00:01\r\u001b[K     |███████████████████▋            | 1.2MB 7.5MB/s eta 0:00:01\r\u001b[K     |███████████████████▉            | 1.2MB 7.5MB/s eta 0:00:01\r\u001b[K     |████████████████████            | 1.2MB 7.5MB/s eta 0:00:01\r\u001b[K     |████████████████████▏           | 1.2MB 7.5MB/s eta 0:00:01\r\u001b[K     |████████████████████▎           | 1.2MB 7.5MB/s eta 0:00:01\r\u001b[K     |████████████████████▌           | 1.2MB 7.5MB/s eta 0:00:01\r\u001b[K     |████████████████████▋           | 1.2MB 7.5MB/s eta 0:00:01\r\u001b[K     |████████████████████▉           | 1.2MB 7.5MB/s eta 0:00:01\r\u001b[K     |█████████████████████           | 1.2MB 7.5MB/s eta 0:00:01\r\u001b[K     |█████████████████████▏          | 1.3MB 7.5MB/s eta 0:00:01\r\u001b[K     |█████████████████████▍          | 1.3MB 7.5MB/s eta 0:00:01\r\u001b[K     |█████████████████████▌          | 1.3MB 7.5MB/s eta 0:00:01\r\u001b[K     |█████████████████████▊          | 1.3MB 7.5MB/s eta 0:00:01\r\u001b[K     |█████████████████████▉          | 1.3MB 7.5MB/s eta 0:00:01\r\u001b[K     |██████████████████████          | 1.3MB 7.5MB/s eta 0:00:01\r\u001b[K     |██████████████████████▏         | 1.3MB 7.5MB/s eta 0:00:01\r\u001b[K     |██████████████████████▍         | 1.3MB 7.5MB/s eta 0:00:01\r\u001b[K     |██████████████████████▌         | 1.3MB 7.5MB/s eta 0:00:01\r\u001b[K     |██████████████████████▊         | 1.4MB 7.5MB/s eta 0:00:01\r\u001b[K     |███████████████████████         | 1.4MB 7.5MB/s eta 0:00:01\r\u001b[K     |███████████████████████         | 1.4MB 7.5MB/s eta 0:00:01\r\u001b[K     |███████████████████████▎        | 1.4MB 7.5MB/s eta 0:00:01\r\u001b[K     |███████████████████████▍        | 1.4MB 7.5MB/s eta 0:00:01\r\u001b[K     |███████████████████████▋        | 1.4MB 7.5MB/s eta 0:00:01\r\u001b[K     |███████████████████████▊        | 1.4MB 7.5MB/s eta 0:00:01\r\u001b[K     |████████████████████████        | 1.4MB 7.5MB/s eta 0:00:01\r\u001b[K     |████████████████████████        | 1.4MB 7.5MB/s eta 0:00:01\r\u001b[K     |████████████████████████▎       | 1.4MB 7.5MB/s eta 0:00:01\r\u001b[K     |████████████████████████▌       | 1.5MB 7.5MB/s eta 0:00:01\r\u001b[K     |████████████████████████▋       | 1.5MB 7.5MB/s eta 0:00:01\r\u001b[K     |████████████████████████▉       | 1.5MB 7.5MB/s eta 0:00:01\r\u001b[K     |█████████████████████████       | 1.5MB 7.5MB/s eta 0:00:01\r\u001b[K     |█████████████████████████▏      | 1.5MB 7.5MB/s eta 0:00:01\r\u001b[K     |█████████████████████████▎      | 1.5MB 7.5MB/s eta 0:00:01\r\u001b[K     |█████████████████████████▌      | 1.5MB 7.5MB/s eta 0:00:01\r\u001b[K     |█████████████████████████▋      | 1.5MB 7.5MB/s eta 0:00:01\r\u001b[K     |█████████████████████████▉      | 1.5MB 7.5MB/s eta 0:00:01\r\u001b[K     |██████████████████████████      | 1.5MB 7.5MB/s eta 0:00:01\r\u001b[K     |██████████████████████████▏     | 1.6MB 7.5MB/s eta 0:00:01\r\u001b[K     |██████████████████████████▍     | 1.6MB 7.5MB/s eta 0:00:01\r\u001b[K     |██████████████████████████▌     | 1.6MB 7.5MB/s eta 0:00:01\r\u001b[K     |██████████████████████████▊     | 1.6MB 7.5MB/s eta 0:00:01\r\u001b[K     |██████████████████████████▉     | 1.6MB 7.5MB/s eta 0:00:01\r\u001b[K     |███████████████████████████     | 1.6MB 7.5MB/s eta 0:00:01\r\u001b[K     |███████████████████████████▏    | 1.6MB 7.5MB/s eta 0:00:01\r\u001b[K     |███████████████████████████▍    | 1.6MB 7.5MB/s eta 0:00:01\r\u001b[K     |███████████████████████████▌    | 1.6MB 7.5MB/s eta 0:00:01\r\u001b[K     |███████████████████████████▊    | 1.6MB 7.5MB/s eta 0:00:01\r\u001b[K     |████████████████████████████    | 1.7MB 7.5MB/s eta 0:00:01\r\u001b[K     |████████████████████████████    | 1.7MB 7.5MB/s eta 0:00:01\r\u001b[K     |████████████████████████████▎   | 1.7MB 7.5MB/s eta 0:00:01\r\u001b[K     |████████████████████████████▍   | 1.7MB 7.5MB/s eta 0:00:01\r\u001b[K     |████████████████████████████▋   | 1.7MB 7.5MB/s eta 0:00:01\r\u001b[K     |████████████████████████████▊   | 1.7MB 7.5MB/s eta 0:00:01\r\u001b[K     |█████████████████████████████   | 1.7MB 7.5MB/s eta 0:00:01\r\u001b[K     |█████████████████████████████   | 1.7MB 7.5MB/s eta 0:00:01\r\u001b[K     |█████████████████████████████▎  | 1.7MB 7.5MB/s eta 0:00:01\r\u001b[K     |█████████████████████████████▍  | 1.8MB 7.5MB/s eta 0:00:01\r\u001b[K     |█████████████████████████████▋  | 1.8MB 7.5MB/s eta 0:00:01\r\u001b[K     |█████████████████████████████▉  | 1.8MB 7.5MB/s eta 0:00:01\r\u001b[K     |██████████████████████████████  | 1.8MB 7.5MB/s eta 0:00:01\r\u001b[K     |██████████████████████████████▏ | 1.8MB 7.5MB/s eta 0:00:01\r\u001b[K     |██████████████████████████████▎ | 1.8MB 7.5MB/s eta 0:00:01\r\u001b[K     |██████████████████████████████▌ | 1.8MB 7.5MB/s eta 0:00:01\r\u001b[K     |██████████████████████████████▋ | 1.8MB 7.5MB/s eta 0:00:01\r\u001b[K     |██████████████████████████████▉ | 1.8MB 7.5MB/s eta 0:00:01\r\u001b[K     |███████████████████████████████ | 1.8MB 7.5MB/s eta 0:00:01\r\u001b[K     |███████████████████████████████▏| 1.9MB 7.5MB/s eta 0:00:01\r\u001b[K     |███████████████████████████████▎| 1.9MB 7.5MB/s eta 0:00:01\r\u001b[K     |███████████████████████████████▌| 1.9MB 7.5MB/s eta 0:00:01\r\u001b[K     |███████████████████████████████▊| 1.9MB 7.5MB/s eta 0:00:01\r\u001b[K     |███████████████████████████████▉| 1.9MB 7.5MB/s eta 0:00:01\r\u001b[K     |████████████████████████████████| 1.9MB 7.5MB/s \n",
            "\u001b[?25h"
          ],
          "name": "stdout"
        }
      ]
    },
    {
      "cell_type": "code",
      "metadata": {
        "id": "pL9dgLs9GAKD"
      },
      "source": [
        "from __future__ import unicode_literals"
      ],
      "execution_count": null,
      "outputs": []
    },
    {
      "cell_type": "code",
      "metadata": {
        "id": "uxI9BNOSGGGX"
      },
      "source": [
        "ydl_opts = {\n",
        "    'format': 'bestaudio/best',\n",
        "    'postprocessors': [{\n",
        "        'key': 'FFmpegExtractAudio',\n",
        "        'preferredcodec': 'mp3',\n",
        "        'preferredquality': '192',\n",
        "    }],\n",
        "}"
      ],
      "execution_count": null,
      "outputs": []
    },
    {
      "cell_type": "code",
      "metadata": {
        "colab": {
          "base_uri": "https://localhost:8080/"
        },
        "id": "B9Tkb-hBE8F-",
        "outputId": "4b4e3609-8e20-451e-909e-71b7cf99903a"
      },
      "source": [
        "#downloading the test video from video\n",
        "from youtube_dl import YoutubeDL\n",
        "with YoutubeDL(ydl_opts) as ydl:\n",
        "    ydl.download(['https://youtu.be/9OXzKmrEbOY'])"
      ],
      "execution_count": null,
      "outputs": [
        {
          "output_type": "stream",
          "text": [
            "[youtube] 9OXzKmrEbOY: Downloading webpage\n",
            "[youtube] 9OXzKmrEbOY: Downloading MPD manifest\n",
            "[download] Destination: How To Create A Keynote Speech - Public Speaking Tip-9OXzKmrEbOY.webm\n",
            "[download] 100% of 13.00MiB in 00:00\n",
            "[ffmpeg] Destination: How To Create A Keynote Speech - Public Speaking Tip-9OXzKmrEbOY.mp3\n",
            "Deleting original file How To Create A Keynote Speech - Public Speaking Tip-9OXzKmrEbOY.webm (pass -k to keep)\n"
          ],
          "name": "stdout"
        }
      ]
    },
    {
      "cell_type": "code",
      "metadata": {
        "id": "aD8k7KQ767cQ"
      },
      "source": [
        "#Perform Conversion\n",
        "with open('/content/How To Create A Keynote Speech - Public Speaking Tip-9OXzKmrEbOY.mp3','rb') as f:\n",
        "  res=stt.recognize(audio=f,content_type='audio/mp3',model='en-US_NarrowbandModel',continuous=True).get_result()"
      ],
      "execution_count": null,
      "outputs": []
    },
    {
      "cell_type": "code",
      "metadata": {
        "id": "28EfUKNoZnZT",
        "colab": {
          "base_uri": "https://localhost:8080/"
        },
        "outputId": "55c445c1-9b43-46ec-ff96-0723fb09feea"
      },
      "source": [
        "trans=\"\"\n",
        "print(res)\n",
        "for i in res['results']:\n",
        "  trans+= i['alternatives'][0]['transcript']"
      ],
      "execution_count": null,
      "outputs": [
        {
          "output_type": "stream",
          "text": [
            "{'result_index': 0, 'results': [{'final': True, 'alternatives': [{'transcript': \"what's up everybody Benji Bruce here speaking lifestyle dot com and in this video we're gonna talk about how do you create a keynote I mean you got a key now or you want to create Aquino how do you create one like a really really good one so you don't side you'll get onstage embarrassed allied yourself and people say don't ever come back here again son so how do you actually create a really good keno so I I just wanna talk bout a couple ideas here first things first there are no rules to creating Aquino so I'm gonna basically just going to give you like a set of guidelines are no rules to creating anything so here's what you want to think first off the best Gino's usually just have one main idea they start out with a main idea persistence %HESITATION you you're sitting there thinking what's the main I. D. only talk about ones how bout persistence okay bam that's the main idea now everything else is going to come from this main ideas is gonna like flow from this one thing if you talk about too many things people just stop paying attention they they don't remember it there like what was the keynote about ways if you just talk bout the one being that all set and they remember what you're talking bout date everything just comes in a one so it is more about use you folks on the one thing you start with the main idea from there so let's see I'm part my persistence I don't know why it's point to my \", 'confidence': 0.78}]}, {'final': True, 'alternatives': [{'transcript': \"from there let's see I'm talking bout persistence now I'm going to start thinking in terms of how my going to introduce the idea you want to pre pre frame people pre framing is is what you're basically gonna get people to think in a certain way so you want to pre frame them about what it is you're going to talk about so it it's pretty framing it is really important basically you're just going to introduce the idea it is things like look what I'm gonna show you right now is probably the most important thing of your life the one thing I'm talking about is the most important thing when it comes to running a business if you don't do this you will without a doubt fail in your business and so your pre framing them you're you're you're opening their brains out to actually accepting the idea to to where no not really accepting the idea to to being prepared to receive the idea it's kind of like you pre frame them by knowing your audience as they can yeah come on tell me tell me tell me that's how you want to picture the pre framed the pre frame is where you sit there like look this hands down it is what it is one of the most important things you can do in your business you can do marketing you can do sales you can have a team but if you do not have this you will absolutely fail and so that's what you're doing with your pre framing and it's like you're picturing it as you saying things in a way where people like what is it what's the one thing you're talking bout what I want to know and so that that's how you want to picture people %HESITATION when it comes to the pre frame \", 'confidence': 0.84}]}, {'final': True, 'alternatives': [{'transcript': \"three for a minute and then you're talking bout like the benefit pre frame so is where it's kind of like well why should they listen to it like why would they Kerr sure it's the one thing %HESITATION of their business but why should they care if you don't do this thing you're going to go out of business if you don't do this thing you're gonna end up %HESITATION getting depressed or whatever so you E. pre frame you you basically added benefit to that pre frame in terms here's why should actually listen to this whole presentation so that's how you start out the presentation star with the main idea then also you start pre framing the idea in terms like a open your mind dummies I'm going to teach you some some some knowledge here I would teach them now W. my dummy so do you want to say that to the audience but as the basics of the pre frame at this point you're gonna you're gonna introduce the idea obviously hate the the most important thing persistent \", 'confidence': 0.77}]}, {'final': True, 'alternatives': [{'transcript': \"or you don't even need to say it you can start with your segments now what I say segments \", 'confidence': 0.76}]}, {'final': True, 'alternatives': [{'transcript': \"a while ago so I remember when I first created the Aquino I wrote down word for word what the hell I was gonna say is like all right yep so his champ really bet you my goodness man and I forgot everything like here we got them everywhere and I remember when it happened to I'm sitting here I'm on a stage Mike \", 'confidence': 0.65}]}, {'final': True, 'alternatives': [{'transcript': \"brilliant man oh my goodness that I get on stage I'm like all right I remember like the first few sensors all right there by and you got to be persistent number and then I felt it in my head what the hell is next \", 'confidence': 0.74}]}, {'final': True, 'alternatives': [{'transcript': 'the ', 'confidence': 0.6}]}, {'final': True, 'alternatives': [{'transcript': \"and so %HESITATION in order to really I felt like I was run at a concert with him like first two sentences I'm like yeah dammit and so the reason is because I was trying remember word for word so what you want to do you don't want to remember word for word you want to break it up into segments and and so this is something I learned as a performer \", 'confidence': 0.79}]}, {'final': True, 'alternatives': [{'transcript': \"where you have to remember your entire set so your entire says like this said the demonstrations are going to do so first I'm gonna %HESITATION %HESITATION on on the bed and a quarter and then I'm gonna tell this person name of the first kiss and I'm I do it's so you you you you said in segments that's what you do with your presentation you say okay segment one I'm going to tell the story about the phone books story I'm going to tell the Lamborghini man's story %HESITATION then after Lamborghini man I'm gonna tell the couch potato story so you create the segments so now I've three segments I've got the bending quarter I've got the Lamborghini and I've got the couch potato got stopped three segments now within each one of those I know exactly what I'm going to say I know the story of the Lamborghini guy I know the story of the bending court I know the story of the couch potato all I gotta do is just remember what order each story is in that's what I mean by creating the segments so you start with your main I. D. up now you say alright here's a segment of the idea and at that point it's a lot easier to remember that that's what you're doing it could be stories can be demonstrations it doesn't really matter I mean stories it capturing cheaper tension \", 'confidence': 0.79}]}, {'final': True, 'alternatives': [{'transcript': \"demonstrations you do the same thing so you you want to think in terms of segment so I haven't tell the Lamborghini store I'm going to tell this or it's like all right I'm gonna start out with the bending quarter story then I'm going to actually bend a quarter I'm a start with the Lambert and then I'll go to Lamborghini story then I'm gonna make a Lamborghini up here and so it's like you get thing in terms of stores and demonstrations at the same time if you want but that's that's really what you think in terms of %HESITATION the actual segments of the presentation that this point well not at this point but dropped the entire presentation what you're doing is you're thinking about what are the internal feelings that people are feeling as you're talking about this thing you're wanting the persistence or whatever so it's like I'm sitting here saying %HESITATION maybe the first story I'll talk about getting D. motivated all right so the first story is %HESITATION did the bending quarter and somehow with Benny quarter YH people were demoted I was D. motivated and like %HESITATION yeah I was perform in house and I was bending quarters and and people were made but then also I got fired well not fired I got let go from all these restaurants and oh my goodness it was the worst thing in the world for me like I I thought maybe I'd have to get a job I thought I was no longer be able to perform for a living %HESITATION so D. motivating and then I listen to this thing about persistence and I've not read this thing about persistence and oh my goodness so so you know what forget it but let me go \", 'confidence': 0.8}]}, {'final': True, 'alternatives': [{'transcript': \"but get you guys I'm gonna be persistent and so that's that's like what you're doing is you're thinking in terms like what are the internal feelings that people are having or are good I have with this whole main idea that you're introducing you're describing those internal feelings in your stores in your demonstrations and you're just you're mixing it all in into those segments that that you're having so at this point so you you have the the introduction your you have the main idea what's the main thing you want to communicate you understand that the pre frame you gonna pre frame that main idea you're gonna create the segments of what is that what exactly you're going to talk about now at this point you're going to think in terms of not really what specifically you're going to say but how you say it so a perfect example is what I'm doing right now in in pretty much every video that I do as you will see so it you can't see my my screen here but on the screen there's yeah I was down on the screen there is little bullet points so these bullet points tell me exactly where I'm going with this whole video it's like so the boat point the first one %HESITATION let's let's actually start this one \", 'confidence': 0.86}]}, {'final': True, 'alternatives': [{'transcript': \"so the the bullet point here it says all right how you communicate %HESITATION segments and then it says bullet point become a showman and so that's that's all it says become a showman now I'm looking at that but when I can glance now I can actually expand on how I'm going to say this thing and so it's not necessarily what I'm gonna say I once again I'm not trying to remember word for word what I'm gonna say it's more of I understand the next thing I got to talk about to become a show man now how exactly am I going to say a bad thing and so obviously next thing you got to become a showing because if you're not showing people are just gonna get bored as all hell you can see the most %HESITATION you can say anything you want but if you hadn't been back up back up you can't say anything we anything you want but let's say you're you're talking about your your whole presentation you can start talking and if you talking a really boring monotone way we know a motion %HESITATION that people are national gonna get bored their national going to not pay attention in talk about persistence all you want you can talk about whatever all you want but if you say in a really boring way that people just aren't going to pay attention that's why I got to become a show when you got a thing in terms of how do I make people feel throughout this presentation that's what you want to do when you are actually delivering a presentation you're thinking more in terms of you feel it first and that feeling is going to come across to other people so there's presentation that that I do \", 'confidence': 0.83}, {'transcript': \"so the the bullet point here it says all right how you communicate %HESITATION segments and then it says bullet point become a showman and so that's that's all it says become a showman now I'm looking at that but when I can glance now I can actually expand on how I'm going to say this thing and so it's not necessarily what I'm gonna say I once again I'm not trying to remember word for word what I'm gonna say it's more of I understand the next thing I got to talk about to become a show man now how exactly am I going to say a bad thing and so obviously next thing you got to become a showing because if you're not showing people are just gonna get bored as all hell you can see the most %HESITATION you can say anything you want but if you hadn't been back up back up you can't say anything with anything you want but let's say you're you're talking about your your whole presentation you can start talking and if you talking a really boring monotone way we know a motion %HESITATION that people are national gonna get bored their national going to not pay attention in talk about persistence all you want you can talk about whatever all you want but if you say in a really boring way that people just aren't going to pay attention that's why I got to become a show when you got a thing in terms of how do I make people feel throughout this presentation that's what you want to do when you are actually delivering a presentation you're thinking more in terms of you feel it first and that feeling is going to come across to other people so there's presentation that that I do \"}]}, {'final': True, 'alternatives': [{'transcript': \"%HESITATION let's see if you Google bench Bruce \", 'confidence': 0.78}]}, {'final': True, 'alternatives': [{'transcript': \"engine purrs inspirational yes I think that it a Papa benchers inspirational what you'll do is you'll you'll see me what %HESITATION white board behind me and I do this thing is like a slam poetry combined with motivation and mind reading and I usually close my presentations with that what you'll see me do on stage as you'll see the emotions coming out of me because I'm doing this this plan Paul he's C. N. B. O. B. emotions coming out of me if I were to do the same thing without express not feeling without me feeling those words wouldn't come across the same way so what you're doing when you're actually press presenting you're presenting your segments you're thinking in terms of I got to be a show me in the way you become a showman as you feel what you're saying so if you're telling a story is sad story he feels that it's like \", 'confidence': 0.78}]}, {'final': True, 'alternatives': [{'transcript': 'yeah and then ', 'confidence': 0.99}]}, {'final': True, 'alternatives': [{'transcript': '%HESITATION is ', 'confidence': 0.59}]}, {'final': True, 'alternatives': [{'transcript': \"it's probably \", 'confidence': 0.95}]}, {'final': True, 'alternatives': [{'transcript': 'the worst thing that happened in mine tire life ', 'confidence': 0.84}]}, {'final': True, 'alternatives': [{'transcript': \"and then like what you're doing is you're thinking about some sad you're saying and I mean that would actually be easier if you're telling a story a sad story that actually happens to you then I'll send you what you're doing is you're reliving that story inside your head if you if you're gonna cry cry I mean eight %HESITATION I know some people think like maybe I should Crowder state but it just makes you vulnerable on people like the vulnerability %HESITATION of course you're going to say you're worse but still %HESITATION skid %HESITATION but basically what you're doing is remember in the beginning you have your main idea you pre frame that idea before you actually tell people what it is then you start creating you think in terms of the segments now you're thinking out stories demonstrations whatever once you have your segments night think how my gonna communicate that you become a show man when you're actually communicating that thing and then \", 'confidence': 0.78}]}, {'final': True, 'alternatives': [{'transcript': \"always remember everything leads back to that main idea everything leads back to the persistence or whatever your your main idea was everything leads back to that mean I. B. S. O. as I tell the story %HESITATION yeah get be motivated by block look I realize you got to be persistent I realize that persistence changes everything well one day I was talking with a guy who has a liberty and it was the and I now goes just transition into a Lamborghini store and this guy's a bubble bobble Bob Bob little Bob %HESITATION I just \", 'confidence': 0.73}]}, {'final': True, 'alternatives': [{'transcript': \"%HESITATION and then remember you got to be persistent like everything comes back to the one thing that you're talking bout your main I. B. up so that's that's what you're really doing men in closing so you're going to close you you're going to get to the the very end your presentation this is something that you really want to do when you're about to close your clothes again you can be creative in terms of how you closing tell that story you can do it I don't know whatever you do raps on whatever you want but the one thing you should always do you want to tell people that you're back to finish so you want to tell people that guys I got one more story for you I got one last thing I want to say I want to do this one demonstration for you guys before I'm finished %HESITATION I got five minutes left I'm gonna tell you one more thing so you want to do that because you want people to know when it's time to end you want them to know when it's time to clap you want to do you want them to know if it's time to stand yo **** up and give me a standing ovation so you you you want to do at the at the closing your closing can be another story demonstration whatever you wanted to be but before you do the closing once again you're gonna tell them you're gonna communicate to them in some way or form or fashion Hey I'm done it's about time you guys stand up \", 'confidence': 0.84}]}, {'final': True, 'alternatives': [{'transcript': 'and that is how you create Aquino %HESITATION ', 'confidence': 0.74}]}, {'final': True, 'alternatives': [{'transcript': 'what did you know ', 'confidence': 0.56}]}]}\n"
          ],
          "name": "stdout"
        }
      ]
    },
    {
      "cell_type": "code",
      "metadata": {
        "id": "DAPmvFddZ6au"
      },
      "source": [
        "trans = trans.replace('%HESITATION','')"
      ],
      "execution_count": null,
      "outputs": []
    },
    {
      "cell_type": "code",
      "metadata": {
        "id": "zrQiV7LFb8Sj",
        "colab": {
          "base_uri": "https://localhost:8080/"
        },
        "outputId": "8a50fe52-07e3-43c3-9845-2d345f3075d2"
      },
      "source": [
        "transcript = open(\"transcript.txt\",\"w\")\n",
        "transcript.write(trans)\n",
        "transcript.close()\n",
        "print(trans)"
      ],
      "execution_count": null,
      "outputs": [
        {
          "output_type": "stream",
          "text": [
            "what's up everybody Benji Bruce here speaking lifestyle dot com and in this video we're gonna talk about how do you create a keynote I mean you got a key now or you want to create Aquino how do you create one like a really really good one so you don't side you'll get onstage embarrassed allied yourself and people say don't ever come back here again son so how do you actually create a really good keno so I I just wanna talk bout a couple ideas here first things first there are no rules to creating Aquino so I'm gonna basically just going to give you like a set of guidelines are no rules to creating anything so here's what you want to think first off the best Gino's usually just have one main idea they start out with a main idea persistence  you you're sitting there thinking what's the main I. D. only talk about ones how bout persistence okay bam that's the main idea now everything else is going to come from this main ideas is gonna like flow from this one thing if you talk about too many things people just stop paying attention they they don't remember it there like what was the keynote about ways if you just talk bout the one being that all set and they remember what you're talking bout date everything just comes in a one so it is more about use you folks on the one thing you start with the main idea from there so let's see I'm part my persistence I don't know why it's point to my from there let's see I'm talking bout persistence now I'm going to start thinking in terms of how my going to introduce the idea you want to pre pre frame people pre framing is is what you're basically gonna get people to think in a certain way so you want to pre frame them about what it is you're going to talk about so it it's pretty framing it is really important basically you're just going to introduce the idea it is things like look what I'm gonna show you right now is probably the most important thing of your life the one thing I'm talking about is the most important thing when it comes to running a business if you don't do this you will without a doubt fail in your business and so your pre framing them you're you're you're opening their brains out to actually accepting the idea to to where no not really accepting the idea to to being prepared to receive the idea it's kind of like you pre frame them by knowing your audience as they can yeah come on tell me tell me tell me that's how you want to picture the pre framed the pre frame is where you sit there like look this hands down it is what it is one of the most important things you can do in your business you can do marketing you can do sales you can have a team but if you do not have this you will absolutely fail and so that's what you're doing with your pre framing and it's like you're picturing it as you saying things in a way where people like what is it what's the one thing you're talking bout what I want to know and so that that's how you want to picture people  when it comes to the pre frame three for a minute and then you're talking bout like the benefit pre frame so is where it's kind of like well why should they listen to it like why would they Kerr sure it's the one thing  of their business but why should they care if you don't do this thing you're going to go out of business if you don't do this thing you're gonna end up  getting depressed or whatever so you E. pre frame you you basically added benefit to that pre frame in terms here's why should actually listen to this whole presentation so that's how you start out the presentation star with the main idea then also you start pre framing the idea in terms like a open your mind dummies I'm going to teach you some some some knowledge here I would teach them now W. my dummy so do you want to say that to the audience but as the basics of the pre frame at this point you're gonna you're gonna introduce the idea obviously hate the the most important thing persistent or you don't even need to say it you can start with your segments now what I say segments a while ago so I remember when I first created the Aquino I wrote down word for word what the hell I was gonna say is like all right yep so his champ really bet you my goodness man and I forgot everything like here we got them everywhere and I remember when it happened to I'm sitting here I'm on a stage Mike brilliant man oh my goodness that I get on stage I'm like all right I remember like the first few sensors all right there by and you got to be persistent number and then I felt it in my head what the hell is next the and so  in order to really I felt like I was run at a concert with him like first two sentences I'm like yeah dammit and so the reason is because I was trying remember word for word so what you want to do you don't want to remember word for word you want to break it up into segments and and so this is something I learned as a performer where you have to remember your entire set so your entire says like this said the demonstrations are going to do so first I'm gonna   on on the bed and a quarter and then I'm gonna tell this person name of the first kiss and I'm I do it's so you you you you said in segments that's what you do with your presentation you say okay segment one I'm going to tell the story about the phone books story I'm going to tell the Lamborghini man's story  then after Lamborghini man I'm gonna tell the couch potato story so you create the segments so now I've three segments I've got the bending quarter I've got the Lamborghini and I've got the couch potato got stopped three segments now within each one of those I know exactly what I'm going to say I know the story of the Lamborghini guy I know the story of the bending court I know the story of the couch potato all I gotta do is just remember what order each story is in that's what I mean by creating the segments so you start with your main I. D. up now you say alright here's a segment of the idea and at that point it's a lot easier to remember that that's what you're doing it could be stories can be demonstrations it doesn't really matter I mean stories it capturing cheaper tension demonstrations you do the same thing so you you want to think in terms of segment so I haven't tell the Lamborghini store I'm going to tell this or it's like all right I'm gonna start out with the bending quarter story then I'm going to actually bend a quarter I'm a start with the Lambert and then I'll go to Lamborghini story then I'm gonna make a Lamborghini up here and so it's like you get thing in terms of stores and demonstrations at the same time if you want but that's that's really what you think in terms of  the actual segments of the presentation that this point well not at this point but dropped the entire presentation what you're doing is you're thinking about what are the internal feelings that people are feeling as you're talking about this thing you're wanting the persistence or whatever so it's like I'm sitting here saying  maybe the first story I'll talk about getting D. motivated all right so the first story is  did the bending quarter and somehow with Benny quarter YH people were demoted I was D. motivated and like  yeah I was perform in house and I was bending quarters and and people were made but then also I got fired well not fired I got let go from all these restaurants and oh my goodness it was the worst thing in the world for me like I I thought maybe I'd have to get a job I thought I was no longer be able to perform for a living  so D. motivating and then I listen to this thing about persistence and I've not read this thing about persistence and oh my goodness so so you know what forget it but let me go but get you guys I'm gonna be persistent and so that's that's like what you're doing is you're thinking in terms like what are the internal feelings that people are having or are good I have with this whole main idea that you're introducing you're describing those internal feelings in your stores in your demonstrations and you're just you're mixing it all in into those segments that that you're having so at this point so you you have the the introduction your you have the main idea what's the main thing you want to communicate you understand that the pre frame you gonna pre frame that main idea you're gonna create the segments of what is that what exactly you're going to talk about now at this point you're going to think in terms of not really what specifically you're going to say but how you say it so a perfect example is what I'm doing right now in in pretty much every video that I do as you will see so it you can't see my my screen here but on the screen there's yeah I was down on the screen there is little bullet points so these bullet points tell me exactly where I'm going with this whole video it's like so the boat point the first one  let's let's actually start this one so the the bullet point here it says all right how you communicate  segments and then it says bullet point become a showman and so that's that's all it says become a showman now I'm looking at that but when I can glance now I can actually expand on how I'm going to say this thing and so it's not necessarily what I'm gonna say I once again I'm not trying to remember word for word what I'm gonna say it's more of I understand the next thing I got to talk about to become a show man now how exactly am I going to say a bad thing and so obviously next thing you got to become a showing because if you're not showing people are just gonna get bored as all hell you can see the most  you can say anything you want but if you hadn't been back up back up you can't say anything we anything you want but let's say you're you're talking about your your whole presentation you can start talking and if you talking a really boring monotone way we know a motion  that people are national gonna get bored their national going to not pay attention in talk about persistence all you want you can talk about whatever all you want but if you say in a really boring way that people just aren't going to pay attention that's why I got to become a show when you got a thing in terms of how do I make people feel throughout this presentation that's what you want to do when you are actually delivering a presentation you're thinking more in terms of you feel it first and that feeling is going to come across to other people so there's presentation that that I do  let's see if you Google bench Bruce engine purrs inspirational yes I think that it a Papa benchers inspirational what you'll do is you'll you'll see me what  white board behind me and I do this thing is like a slam poetry combined with motivation and mind reading and I usually close my presentations with that what you'll see me do on stage as you'll see the emotions coming out of me because I'm doing this this plan Paul he's C. N. B. O. B. emotions coming out of me if I were to do the same thing without express not feeling without me feeling those words wouldn't come across the same way so what you're doing when you're actually press presenting you're presenting your segments you're thinking in terms of I got to be a show me in the way you become a showman as you feel what you're saying so if you're telling a story is sad story he feels that it's like yeah and then  is it's probably the worst thing that happened in mine tire life and then like what you're doing is you're thinking about some sad you're saying and I mean that would actually be easier if you're telling a story a sad story that actually happens to you then I'll send you what you're doing is you're reliving that story inside your head if you if you're gonna cry cry I mean eight  I know some people think like maybe I should Crowder state but it just makes you vulnerable on people like the vulnerability  of course you're going to say you're worse but still  skid  but basically what you're doing is remember in the beginning you have your main idea you pre frame that idea before you actually tell people what it is then you start creating you think in terms of the segments now you're thinking out stories demonstrations whatever once you have your segments night think how my gonna communicate that you become a show man when you're actually communicating that thing and then always remember everything leads back to that main idea everything leads back to the persistence or whatever your your main idea was everything leads back to that mean I. B. S. O. as I tell the story  yeah get be motivated by block look I realize you got to be persistent I realize that persistence changes everything well one day I was talking with a guy who has a liberty and it was the and I now goes just transition into a Lamborghini store and this guy's a bubble bobble Bob Bob little Bob  I just  and then remember you got to be persistent like everything comes back to the one thing that you're talking bout your main I. B. up so that's that's what you're really doing men in closing so you're going to close you you're going to get to the the very end your presentation this is something that you really want to do when you're about to close your clothes again you can be creative in terms of how you closing tell that story you can do it I don't know whatever you do raps on whatever you want but the one thing you should always do you want to tell people that you're back to finish so you want to tell people that guys I got one more story for you I got one last thing I want to say I want to do this one demonstration for you guys before I'm finished  I got five minutes left I'm gonna tell you one more thing so you want to do that because you want people to know when it's time to end you want them to know when it's time to clap you want to do you want them to know if it's time to stand yo **** up and give me a standing ovation so you you you want to do at the at the closing your closing can be another story demonstration whatever you wanted to be but before you do the closing once again you're gonna tell them you're gonna communicate to them in some way or form or fashion Hey I'm done it's about time you guys stand up and that is how you create Aquino  what did you know \n"
          ],
          "name": "stdout"
        }
      ]
    },
    {
      "cell_type": "markdown",
      "metadata": {
        "id": "foSZEBmA3EJI"
      },
      "source": [
        "## Transcript\n",
        "what's up everybody Benji Bruce here speaking lifestyle dot com and in this video we're gonna talk about how do you create a keynote I mean you got a key now or you want to create Aquino how do you create one like a really really good one so you don't side you'll get onstage embarrassed allied yourself and people say don't ever come back here again son so how do you actually create a really good keno so I I just wanna talk bout a couple ideas here first things first there are no rules to creating Aquino so I'm gonna basically just going to give you like a set of guidelines are no rules to creating anything so here's what you want to think first off the best Gino's usually just have one main idea they start out with a main idea persistence  you you're sitting there thinking what's the main I. D. only talk about ones how bout persistence okay bam that's the main idea now everything else is going to come from this main ideas is gonna like flow from this one thing if you talk about too many things people just stop paying attention they they don't remember it there like what was the keynote about ways if you just talk bout the one being that all set and they remember what you're talking bout date everything just comes in a one so it is more about use you folks on the one thing you start with the main idea from there so let's see I'm part my persistence I don't know why it's point to my from there let's see I'm talking bout persistence now I'm going to start thinking in terms of how my going to introduce the idea you want to pre pre frame people pre framing is is what you're basically gonna get people to think in a certain way so you want to pre frame them about what it is you're going to talk about so it it's pretty framing it is really important basically you're just going to introduce the idea it is things like look what I'm gonna show you right now is probably the most important thing of your life the one thing I'm talking about is the most important thing when it comes to running a business if you don't do this you will without a doubt fail in your business and so your pre framing them you're you're you're opening their brains out to actually accepting the idea to to where no not really accepting the idea to to being prepared to receive the idea it's kind of like you pre frame them by knowing your audience as they can yeah come on tell me tell me tell me that's how you want to picture the pre framed the pre frame is where you sit there like look this hands down it is what it is one of the most important things you can do in your business you can do marketing you can do sales you can have a team but if you do not have this you will absolutely fail and so that's what you're doing with your pre framing and it's like you're picturing it as you saying things in a way where people like what is it what's the one thing you're talking bout what I want to know and so that that's how you want to picture people  when it comes to the pre frame three for a minute and then you're talking bout like the benefit pre frame so is where it's kind of like well why should they listen to it like why would they Kerr sure it's the one thing  of their business but why should they care if you don't do this thing you're going to go out of business if you don't do this thing you're gonna end up  getting depressed or whatever so you E. pre frame you you basically added benefit to that pre frame in terms here's why should actually listen to this whole presentation so that's how you start out the presentation star with the main idea then also you start pre framing the idea in terms like a open your mind dummies I'm going to teach you some some some knowledge here I would teach them now W. my dummy so do you want to say that to the audience but as the basics of the pre frame at this point you're gonna you're gonna introduce the idea obviously hate the the most important thing persistent or you don't even need to say it you can start with your segments now what I say segments a while ago so I remember when I first created the Aquino I wrote down word for word what the hell I was gonna say is like all right yep so his champ really bet you my goodness man and I forgot everything like here we got them everywhere and I remember when it happened to I'm sitting here I'm on a stage Mike brilliant man oh my goodness that I get on stage I'm like all right I remember like the first few sensors all right there by and you got to be persistent number and then I felt it in my head what the hell is next the and so  in order to really I felt like I was run at a concert with him like first two sentences I'm like yeah dammit and so the reason is because I was trying remember word for word so what you want to do you don't want to remember word for word you want to break it up into segments and and so this is something I learned as a performer where you have to remember your entire set so your entire says like this said the demonstrations are going to do so first I'm gonna   on on the bed and a quarter and then I'm gonna tell this person name of the first kiss and I'm I do it's so you you you you said in segments that's what you do with your presentation you say okay segment one I'm going to tell the story about the phone books story I'm going to tell the Lamborghini man's story  then after Lamborghini man I'm gonna tell the couch potato story so you create the segments so now I've three segments I've got the bending quarter I've got the Lamborghini and I've got the couch potato got stopped three segments now within each one of those I know exactly what I'm going to say I know the story of the Lamborghini guy I know the story of the bending court I know the story of the couch potato all I gotta do is just remember what order each story is in that's what I mean by creating the segments so you start with your main I. D. up now you say alright here's a segment of the idea and at that point it's a lot easier to remember that that's what you're doing it could be stories can be demonstrations it doesn't really matter I mean stories it capturing cheaper tension demonstrations you do the same thing so you you want to think in terms of segment so I haven't tell the Lamborghini store I'm going to tell this or it's like all right I'm gonna start out with the bending quarter story then I'm going to actually bend a quarter I'm a start with the Lambert and then I'll go to Lamborghini story then I'm gonna make a Lamborghini up here and so it's like you get thing in terms of stores and demonstrations at the same time if you want but that's that's really what you think in terms of  the actual segments of the presentation that this point well not at this point but dropped the entire presentation what you're doing is you're thinking about what are the internal feelings that people are feeling as you're talking about this thing you're wanting the persistence or whatever so it's like I'm sitting here saying  maybe the first story I'll talk about getting D. motivated all right so the first story is  did the bending quarter and somehow with Benny quarter YH people were demoted I was D. motivated and like  yeah I was perform in house and I was bending quarters and and people were made but then also I got fired well not fired I got let go from all these restaurants and oh my goodness it was the worst thing in the world for me like I I thought maybe I'd have to get a job I thought I was no longer be able to perform for a living  so D. motivating and then I listen to this thing about persistence and I've not read this thing about persistence and oh my goodness so so you know what forget it but let me go but get you guys I'm gonna be persistent and so that's that's like what you're doing is you're thinking in terms like what are the internal feelings that people are having or are good I have with this whole main idea that you're introducing you're describing those internal feelings in your stores in your demonstrations and you're just you're mixing it all in into those segments that that you're having so at this point so you you have the the introduction your you have the main idea what's the main thing you want to communicate you understand that the pre frame you gonna pre frame that main idea you're gonna create the segments of what is that what exactly you're going to talk about now at this point you're going to think in terms of not really what specifically you're going to say but how you say it so a perfect example is what I'm doing right now in in pretty much every video that I do as you will see so it you can't see my my screen here but on the screen there's yeah I was down on the screen there is little bullet points so these bullet points tell me exactly where I'm going with this whole video it's like so the boat point the first one  let's let's actually start this one so the the bullet point here it says all right how you communicate  segments and then it says bullet point become a showman and so that's that's all it says become a showman now I'm looking at that but when I can glance now I can actually expand on how I'm going to say this thing and so it's not necessarily what I'm gonna say I once again I'm not trying to remember word for word what I'm gonna say it's more of I understand the next thing I got to talk about to become a show man now how exactly am I going to say a bad thing and so obviously next thing you got to become a showing because if you're not showing people are just gonna get bored as all hell you can see the most  you can say anything you want but if you hadn't been back up back up you can't say anything we anything you want but let's say you're you're talking about your your whole presentation you can start talking and if you talking a really boring monotone way we know a motion  that people are national gonna get bored their national going to not pay attention in talk about persistence all you want you can talk about whatever all you want but if you say in a really boring way that people just aren't going to pay attention that's why I got to become a show when you got a thing in terms of how do I make people feel throughout this presentation that's what you want to do when you are actually delivering a presentation you're thinking more in terms of you feel it first and that feeling is going to come across to other people so there's presentation that that I do  let's see if you Google bench Bruce engine purrs inspirational yes I think that it a Papa benchers inspirational what you'll do is you'll you'll see me what  white board behind me and I do this thing is like a slam poetry combined with motivation and mind reading and I usually close my presentations with that what you'll see me do on stage as you'll see the emotions coming out of me because I'm doing this this plan Paul he's C. N. B. O. B. emotions coming out of me if I were to do the same thing without express not feeling without me feeling those words wouldn't come across the same way so what you're doing when you're actually press presenting you're presenting your segments you're thinking in terms of I got to be a show me in the way you become a showman as you feel what you're saying so if you're telling a story is sad story he feels that it's like yeah and then  is it's probably the worst thing that happened in mine tire life and then like what you're doing is you're thinking about some sad you're saying and I mean that would actually be easier if you're telling a story a sad story that actually happens to you then I'll send you what you're doing is you're reliving that story inside your head if you if you're gonna cry cry I mean eight  I know some people think like maybe I should Crowder state but it just makes you vulnerable on people like the vulnerability  of course you're going to say you're worse but still  skid  but basically what you're doing is remember in the beginning you have your main idea you pre frame that idea before you actually tell people what it is then you start creating you think in terms of the segments now you're thinking out stories demonstrations whatever once you have your segments night think how my gonna communicate that you become a show man when you're actually communicating that thing and then always remember everything leads back to that main idea everything leads back to the persistence or whatever your your main idea was everything leads back to that mean I. B. S. O. as I tell the story  yeah get be motivated by block look I realize you got to be persistent I realize that persistence changes everything well one day I was talking with a guy who has a liberty and it was the and I now goes just transition into a Lamborghini store and this guy's a bubble bobble Bob Bob little Bob  I just  and then remember you got to be persistent like everything comes back to the one thing that you're talking bout your main I. B. up so that's that's what you're really doing men in closing so you're going to close you you're going to get to the the very end your presentation this is something that you really want to do when you're about to close your clothes again you can be creative in terms of how you closing tell that story you can do it I don't know whatever you do raps on whatever you want but the one thing you should always do you want to tell people that you're back to finish so you want to tell people that guys I got one more story for you I got one last thing I want to say I want to do this one demonstration for you guys before I'm finished  I got five minutes left I'm gonna tell you one more thing so you want to do that because you want people to know when it's time to end you want them to know when it's time to clap you want to do you want them to know if it's time to stand yo **** up and give me a standing ovation so you you you want to do at the at the closing your closing can be another story demonstration whatever you wanted to be but before you do the closing once again you're gonna tell them you're gonna communicate to them in some way or form or fashion Hey I'm done it's about time you guys stand up and that is how you create Aquino  what did you know "
      ]
    },
    {
      "cell_type": "markdown",
      "metadata": {
        "id": "ef8-gyO3Vxyb"
      },
      "source": [
        "# Summarization using Transformer"
      ]
    },
    {
      "cell_type": "code",
      "metadata": {
        "id": "C9jFnPDDV4d1"
      },
      "source": [
        "!pip install transformers --quiet"
      ],
      "execution_count": null,
      "outputs": []
    },
    {
      "cell_type": "code",
      "metadata": {
        "id": "EyY6OWXQ-c1b"
      },
      "source": [
        "from transformers import pipeline"
      ],
      "execution_count": null,
      "outputs": []
    },
    {
      "cell_type": "code",
      "metadata": {
        "id": "0T0Zq3Qf-vS8"
      },
      "source": [
        "summarizer = pipeline(\"summarization\", model=\"t5-base\", tokenizer=\"t5-base\", framework=\"tf\")"
      ],
      "execution_count": null,
      "outputs": []
    },
    {
      "cell_type": "code",
      "metadata": {
        "id": "-dg1k4p0WOjY"
      },
      "source": [
        "transcript = trans\n",
        "summary_text2 = summarizer(transcript, max_length=1000, min_length=5, do_sample=False)[0]['summary_text']"
      ],
      "execution_count": null,
      "outputs": []
    },
    {
      "cell_type": "code",
      "metadata": {
        "colab": {
          "base_uri": "https://localhost:8080/",
          "height": 88
        },
        "id": "XPF0qabbYIk6",
        "outputId": "9ab6d716-2dd8-4f5e-80ed-1805182afa0f"
      },
      "source": [
        "summary_text2"
      ],
      "execution_count": null,
      "outputs": [
        {
          "output_type": "execute_result",
          "data": {
            "application/vnd.google.colaboratory.intrinsic+json": {
              "type": "string"
            },
            "text/plain": [
              "\"if you talk about too many things people just stop paying attention they're gonna go out of business . that's what you're doing in terms of pre framing the idea and then you start creating the segments of what you want to talk about . you can also do raps on whatever you want but the one thing you should always do is tell people that it's time to finish .\""
            ]
          },
          "metadata": {
            "tags": []
          },
          "execution_count": 56
        }
      ]
    },
    {
      "cell_type": "markdown",
      "metadata": {
        "id": "CY_dK2EXfx-2"
      },
      "source": [
        "##Summary:\n",
        "###if you talk about too many things people just stop paying attention they're gonna go out of business . that's what you're doing in terms of pre framing the idea and then you start creating the segments of what you want to talk about . you can also do raps on whatever you want but the one thing you should always do is tell people that it's time to finish ."
      ]
    },
    {
      "cell_type": "markdown",
      "metadata": {
        "id": "JeGkkShJXTMw"
      },
      "source": [
        "#Summarization using Text Rank"
      ]
    },
    {
      "cell_type": "code",
      "metadata": {
        "id": "3SHkBeg1hRxP"
      },
      "source": [
        "import nltk\n",
        "nltk.download('punkt')\n",
        "nltk.download(\"stopwords\")\n",
        "#splits into sentences\n",
        "sentence_list = nltk.sent_tokenize(trans)"
      ],
      "execution_count": null,
      "outputs": []
    },
    {
      "cell_type": "code",
      "metadata": {
        "id": "L7HbqlS3hH90"
      },
      "source": [
        "stopwords = nltk.corpus.stopwords.words('english')\n",
        "\n",
        "word_frequencies = {}\n",
        "for word in nltk.word_tokenize(trans):\n",
        "    if word not in stopwords:\n",
        "        if word not in word_frequencies.keys():\n",
        "            word_frequencies[word] = 1\n",
        "        else:\n",
        "            word_frequencies[word] += 1"
      ],
      "execution_count": null,
      "outputs": []
    },
    {
      "cell_type": "code",
      "metadata": {
        "id": "dj0-i8_phuSF"
      },
      "source": [
        "maximum_frequncy = max(word_frequencies.values())\n",
        "\n",
        "for word in word_frequencies.keys():\n",
        "    word_frequencies[word] = (word_frequencies[word]/maximum_frequncy)"
      ],
      "execution_count": null,
      "outputs": []
    },
    {
      "cell_type": "code",
      "metadata": {
        "id": "sW9zNFgDhviU"
      },
      "source": [
        "sentence_scores = {}\n",
        "for word in nltk.word_tokenize(trans.lower()):\n",
        "    if word in word_frequencies.keys():\n",
        "        # if len(trans.split(' ')) < 30:\n",
        "            if sent not in sentence_scores.keys():\n",
        "                sentence_scores[sent] = word_frequencies[word]\n",
        "            else:\n",
        "                sentence_scores[sent] += word_frequencies[word]"
      ],
      "execution_count": null,
      "outputs": []
    },
    {
      "cell_type": "code",
      "metadata": {
        "id": "7fVEBbvYhxwp"
      },
      "source": [
        "import heapq\n",
        "summary_sentences = heapq.nlargest(7, sentence_scores, key=sentence_scores.get)\n",
        "\n",
        "summary = ' '.join(summary_sentences)"
      ],
      "execution_count": null,
      "outputs": []
    },
    {
      "cell_type": "markdown",
      "metadata": {
        "id": "iez4xpmVjtgU"
      },
      "source": [
        "##Summary:\n",
        "###B. up so that's that's what you're really doing men in closing so you're going to close you you're going to get to the the very end your presentation this is something that you really want to do when you're about to close your clothes again you can be creative in terms of how you closing tell that story you can do it I don't know whatever you do raps on whatever you want but the one thing you should always do you want to tell people that you're back to finish so you want to tell people that guys I got one more story for you I got one last thing I want to say I want to do this one demonstration for you guys before I'm finished  I got five minutes left I'm gonna tell you one more thing so you want to do that because you want people to know when it's time to end you want them to know when it's time to clap you want to do you want them to know if it's time to stand yo **** up and give me a standing ovation so you you you want to do at the at the closing your closing can be another story demonstration whatever you wanted to be but before you do the closing once again you're gonna tell them you're gonna communicate to them in some way or form or fashion Hey I'm done it's about time you guys stand up and that is how you create Aquino  what did you know"
      ]
    }
  ]
}